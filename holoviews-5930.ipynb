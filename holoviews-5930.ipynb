{
 "cells": [
  {
   "cell_type": "code",
   "execution_count": null,
   "id": "7fec91b0-824e-4dc3-b716-1a30d4ba40e2",
   "metadata": {},
   "outputs": [],
   "source": [
    "import xarray as xr\n",
    "\n",
    "import dask.dataframe as dd\n",
    "\n",
    "import matplotlib as mpl\n",
    "\n",
    "import holoviews.operation.datashader as hd\n",
    "import holoviews as hv\n",
    "from holoviews import opts\n",
    "\n",
    "import geoviews.feature as gf\n",
    "import cartopy.crs as ccrs\n",
    "import numpy as np\n",
    "\n",
    "cmap = \"Blues\"\n",
    "\n",
    "hv.extension(\"bokeh\")"
   ]
  },
  {
   "cell_type": "code",
   "execution_count": null,
   "id": "1143dbb6-9ec5-4067-af77-3a4e115689f1",
   "metadata": {},
   "outputs": [],
   "source": [
    "data_path = \"data/dyamond_1.3.75km.subset.nc\""
   ]
  },
  {
   "cell_type": "code",
   "execution_count": null,
   "id": "1f1622d2-63ee-47b3-b8be-735641a48545",
   "metadata": {},
   "outputs": [],
   "source": [
    "xrds = xr.open_dataset(data_path)"
   ]
  },
  {
   "cell_type": "code",
   "execution_count": null,
   "id": "1488ec2c-aca2-4bff-9256-5b5504f1c7a3",
   "metadata": {},
   "outputs": [],
   "source": [
    "xrds"
   ]
  },
  {
   "cell_type": "code",
   "execution_count": null,
   "id": "946bf958-99fe-4679-b4e0-12fb799909a3",
   "metadata": {},
   "outputs": [],
   "source": [
    "lat = xrds.latitude.values\n",
    "lon = xrds.longitude.values\n",
    "data_var = xrds.relhum_200hPa.values"
   ]
  },
  {
   "cell_type": "code",
   "execution_count": null,
   "id": "5647090f-4e4b-4e6b-b023-e313e266f7ca",
   "metadata": {},
   "outputs": [],
   "source": [
    "vmin = 0.0\n",
    "vmax = data_var.max()"
   ]
  },
  {
   "cell_type": "code",
   "execution_count": null,
   "id": "ebff97c0-cf9b-4a05-a4ac-f823cd1e3ca6",
   "metadata": {},
   "outputs": [],
   "source": [
    "def point_raster_bokeh(pixel_ratio, width, height, dynamic, title):\n",
    "    opts_kwargs = {\"title\": title,\n",
    "               \"clabel\":\"relhum_200hPa (%)\",\n",
    "               \"colorbar\": True,\n",
    "               \"clim\" : (vmin, vmax),\n",
    "               \"cmap\" :cmap}\n",
    "\n",
    "    raster = hd.rasterize(points, aggregator=\"mean\", precompute=True, pixel_ratio=pixel_ratio, dynamic=dynamic)\n",
    "    return raster.opts(**opts_kwargs, width=width, height=height)  * gf.coastline(projection=projection)\n",
    "\n",
    "def get_hv_points(projection, lon, lat, data_var):\n",
    "    xPCS, yPCS, _ = projection.transform_points(ccrs.PlateCarree(), lon, lat).T\n",
    "    point_dict = {\"lon\" : xPCS, \"lat\" : yPCS, \"d_var\" : data_var}\n",
    "    point_ddf = dd.from_dict(data = point_dict, npartitions=10)\n",
    "    points = hv.Points(point_ddf, ['lon', 'lat'])\n",
    "    return points"
   ]
  },
  {
   "cell_type": "code",
   "execution_count": null,
   "id": "7f566d2e-f13a-4169-9948-c7636722f42a",
   "metadata": {},
   "outputs": [],
   "source": [
    "%%time\n",
    "projection = ccrs.PlateCarree()\n",
    "\n",
    "points = get_hv_points(projection, lon, lat, data_var)"
   ]
  },
  {
   "cell_type": "code",
   "execution_count": null,
   "id": "b750b0b4-6890-4ae9-b4ea-a87e7c6cc259",
   "metadata": {},
   "outputs": [],
   "source": [
    "point_raster_bokeh(1.0, width=1000, height=500, dynamic=True, \\\n",
    "                   title=\"Relative humidity vertically interpolated to 200 hPa (PlateCarree)\")"
   ]
  },
  {
   "cell_type": "code",
   "execution_count": null,
   "id": "8b981bf6-a5af-420b-8cfb-672716b204d8",
   "metadata": {},
   "outputs": [],
   "source": [
    "%%time\n",
    "projection = ccrs.Orthographic(central_latitude=-90)\n",
    "\n",
    "points = get_hv_points(projection, lon, lat, data_var)"
   ]
  },
  {
   "cell_type": "code",
   "execution_count": null,
   "id": "c1c6526b-3e1e-440c-a119-d97696f286e5",
   "metadata": {},
   "outputs": [],
   "source": [
    "point_raster_bokeh(1.0, width=1000, height=1000, dynamic=True, \\\n",
    "                   title=\"Relative humidity vertically interpolated to 200 hPa (Orthographic, South Pole)\")"
   ]
  },
  {
   "cell_type": "markdown",
   "id": "93f94b7d-1435-4df3-bbaf-f2fcacd64564",
   "metadata": {},
   "source": [
    "Using a large enough pixel ratio with dyanmic set to false, the plots look good enough, even when zoomed in, but lose the ability to re-rasterize"
   ]
  },
  {
   "cell_type": "code",
   "execution_count": null,
   "id": "0056033a-7f83-4f4a-a040-877f6313f864",
   "metadata": {},
   "outputs": [],
   "source": [
    "point_raster_bokeh(4.0, width=1000, height=1000, dynamic=False, \\\n",
    "                   title=\"Relative humidity vertically interpolated to 200 hPa (Orthographic, South Pole)\")"
   ]
  }
 ],
 "metadata": {
  "kernelspec": {
   "display_name": "Python [conda env:uxarray-plot-api]",
   "language": "python",
   "name": "conda-env-uxarray-plot-api-py"
  },
  "language_info": {
   "codemirror_mode": {
    "name": "ipython",
    "version": 3
   },
   "file_extension": ".py",
   "mimetype": "text/x-python",
   "name": "python",
   "nbconvert_exporter": "python",
   "pygments_lexer": "ipython3",
   "version": "3.11.5"
  }
 },
 "nbformat": 4,
 "nbformat_minor": 5
}
